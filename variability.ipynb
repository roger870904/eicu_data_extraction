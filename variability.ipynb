{
 "cells": [
  {
   "cell_type": "code",
   "execution_count": 3,
   "id": "6e9752b3",
   "metadata": {},
   "outputs": [],
   "source": [
    "import numpy as np\n",
    "import pandas as pd\n",
    "import os\n",
    "import matplotlib.pyplot as plt"
   ]
  },
  {
   "cell_type": "markdown",
   "id": "7987f9ca",
   "metadata": {},
   "source": [
    "##https://www.kaggle.com/stetelepta/exploring-heart-rate-variability-using-python\n"
   ]
  },
  {
   "cell_type": "code",
   "execution_count": 6,
   "id": "bef463fe",
   "metadata": {},
   "outputs": [
    {
     "name": "stderr",
     "output_type": "stream",
     "text": [
      "c:\\users\\userpc\\miniconda3\\envs\\243\\lib\\site-packages\\ipykernel_launcher.py:15: RuntimeWarning: Mean of empty slice\n",
      "  from ipykernel import kernelapp as app\n",
      "c:\\users\\userpc\\miniconda3\\envs\\243\\lib\\site-packages\\ipykernel_launcher.py:16: RuntimeWarning: Degrees of freedom <= 0 for slice.\n",
      "  app.launch_new_instance()\n"
     ]
    }
   ],
   "source": [
    "df=pd.read_csv(os.getcwd()+'\\\\respiratorycharting_hour_mask.csv')#if this file is not exist, please exacute Respiratorycharting_hour.ipynb file first\n",
    "df2=pd.read_csv(os.getcwd()+'\\\\dialysisoffset.csv')\n",
    "ftname=['patientunitstayid','Respiratory rate mean','Respiratory rate var']\n",
    "dfvariability=pd.DataFrame(columns=ftname)\n",
    "for i in range(0,len(df)):\n",
    "\n",
    "    variability=[]\n",
    "    for j in range(1,49):\n",
    "        if(not pd.isna(df['Respiratory rate %02d hours'%j][i])):\n",
    "            variability.append(df['Respiratory rate %02d hours'%j][i])\n",
    "    #print(variability)\n",
    "    #dfhrv['patientunitstayid'][i]=df['patientunitstayid'][i]\n",
    "    try:\n",
    "        space_row = [df2['patientunitstayid'][i]]\n",
    "        space_row.append(np.nanmean(variability))\n",
    "        space_row.append(np.nanvar(variability))\n",
    "        #space_row.append(df2['dialysisend'][i]-df2['dialysisstart'][i])\n",
    "        #space_row.append(df['target'][i])\n",
    "        #print(df2['patientunitstayid'][i])\n",
    "        #print(np.nanvar(hrv))\n",
    "    except ValueError:\n",
    "        print(df['patientunitstayid'][i])\n",
    "        space_row=[df2['patientunitstayid'][i]]\n",
    "        for i in range(1,len(ftname)):\n",
    "            space_row.append(-0.001)\n",
    "        #space_row.append(df['target'][i])\n",
    "    dfvariability = dfvariability.append(pd.Series(space_row, index=dfvariability.columns), ignore_index=True)\n",
    "dfvariability.to_csv(os.getcwd()+'\\\\Respiratoryrate.csv',index=False)\n",
    "#after finish these file, please duplicate mean and var of Respiratoryrate into inputdata manually"
   ]
  },
  {
   "cell_type": "code",
   "execution_count": 4,
   "id": "995ada3f",
   "metadata": {},
   "outputs": [
    {
     "name": "stdout",
     "output_type": "stream",
     "text": [
      "heartrate\n",
      "systemicsystolic\n"
     ]
    },
    {
     "ename": "KeyboardInterrupt",
     "evalue": "",
     "output_type": "error",
     "traceback": [
      "\u001b[1;31m---------------------------------------------------------------------------\u001b[0m",
      "\u001b[1;31mKeyboardInterrupt\u001b[0m                         Traceback (most recent call last)",
      "\u001b[1;32m~\\AppData\\Local\\Temp/ipykernel_21148/3548883357.py\u001b[0m in \u001b[0;36m<module>\u001b[1;34m\u001b[0m\n\u001b[0;32m     31\u001b[0m                 \u001b[0mspace_row\u001b[0m\u001b[1;33m.\u001b[0m\u001b[0mappend\u001b[0m\u001b[1;33m(\u001b[0m\u001b[1;33m-\u001b[0m\u001b[1;36m0.001\u001b[0m\u001b[1;33m)\u001b[0m\u001b[1;33m\u001b[0m\u001b[1;33m\u001b[0m\u001b[0m\n\u001b[0;32m     32\u001b[0m             \u001b[1;31m#space_row.append(df['target'][i])\u001b[0m\u001b[1;33m\u001b[0m\u001b[1;33m\u001b[0m\u001b[1;33m\u001b[0m\u001b[0m\n\u001b[1;32m---> 33\u001b[1;33m         \u001b[0mdfhrv\u001b[0m \u001b[1;33m=\u001b[0m \u001b[0mdfhrv\u001b[0m\u001b[1;33m.\u001b[0m\u001b[0mappend\u001b[0m\u001b[1;33m(\u001b[0m\u001b[0mpd\u001b[0m\u001b[1;33m.\u001b[0m\u001b[0mSeries\u001b[0m\u001b[1;33m(\u001b[0m\u001b[0mspace_row\u001b[0m\u001b[1;33m,\u001b[0m \u001b[0mindex\u001b[0m\u001b[1;33m=\u001b[0m\u001b[0mdfhrv\u001b[0m\u001b[1;33m.\u001b[0m\u001b[0mcolumns\u001b[0m\u001b[1;33m)\u001b[0m\u001b[1;33m,\u001b[0m \u001b[0mignore_index\u001b[0m\u001b[1;33m=\u001b[0m\u001b[1;32mTrue\u001b[0m\u001b[1;33m)\u001b[0m\u001b[1;33m\u001b[0m\u001b[1;33m\u001b[0m\u001b[0m\n\u001b[0m\u001b[0;32m     34\u001b[0m     \u001b[0mdfhrv\u001b[0m\u001b[1;33m.\u001b[0m\u001b[0mto_csv\u001b[0m\u001b[1;33m(\u001b[0m\u001b[0mos\u001b[0m\u001b[1;33m.\u001b[0m\u001b[0mgetcwd\u001b[0m\u001b[1;33m(\u001b[0m\u001b[1;33m)\u001b[0m\u001b[1;33m+\u001b[0m\u001b[1;34m'\\\\%s.csv'\u001b[0m\u001b[1;33m%\u001b[0m\u001b[0mfeature\u001b[0m\u001b[1;33m[\u001b[0m\u001b[0mk\u001b[0m\u001b[1;33m]\u001b[0m\u001b[1;33m,\u001b[0m\u001b[0mindex\u001b[0m\u001b[1;33m=\u001b[0m\u001b[1;32mFalse\u001b[0m\u001b[1;33m)\u001b[0m\u001b[1;33m\u001b[0m\u001b[1;33m\u001b[0m\u001b[0m\n",
      "\u001b[1;32mc:\\users\\userpc\\miniconda3\\envs\\243\\lib\\site-packages\\pandas\\core\\frame.py\u001b[0m in \u001b[0;36mappend\u001b[1;34m(self, other, ignore_index, verify_integrity, sort)\u001b[0m\n\u001b[0;32m   8963\u001b[0m                 \u001b[0mignore_index\u001b[0m\u001b[1;33m=\u001b[0m\u001b[0mignore_index\u001b[0m\u001b[1;33m,\u001b[0m\u001b[1;33m\u001b[0m\u001b[1;33m\u001b[0m\u001b[0m\n\u001b[0;32m   8964\u001b[0m                 \u001b[0mverify_integrity\u001b[0m\u001b[1;33m=\u001b[0m\u001b[0mverify_integrity\u001b[0m\u001b[1;33m,\u001b[0m\u001b[1;33m\u001b[0m\u001b[1;33m\u001b[0m\u001b[0m\n\u001b[1;32m-> 8965\u001b[1;33m                 \u001b[0msort\u001b[0m\u001b[1;33m=\u001b[0m\u001b[0msort\u001b[0m\u001b[1;33m,\u001b[0m\u001b[1;33m\u001b[0m\u001b[1;33m\u001b[0m\u001b[0m\n\u001b[0m\u001b[0;32m   8966\u001b[0m             )\n\u001b[0;32m   8967\u001b[0m         ).__finalize__(self, method=\"append\")\n",
      "\u001b[1;32mc:\\users\\userpc\\miniconda3\\envs\\243\\lib\\site-packages\\pandas\\util\\_decorators.py\u001b[0m in \u001b[0;36mwrapper\u001b[1;34m(*args, **kwargs)\u001b[0m\n\u001b[0;32m    309\u001b[0m                     \u001b[0mstacklevel\u001b[0m\u001b[1;33m=\u001b[0m\u001b[0mstacklevel\u001b[0m\u001b[1;33m,\u001b[0m\u001b[1;33m\u001b[0m\u001b[1;33m\u001b[0m\u001b[0m\n\u001b[0;32m    310\u001b[0m                 )\n\u001b[1;32m--> 311\u001b[1;33m             \u001b[1;32mreturn\u001b[0m \u001b[0mfunc\u001b[0m\u001b[1;33m(\u001b[0m\u001b[1;33m*\u001b[0m\u001b[0margs\u001b[0m\u001b[1;33m,\u001b[0m \u001b[1;33m**\u001b[0m\u001b[0mkwargs\u001b[0m\u001b[1;33m)\u001b[0m\u001b[1;33m\u001b[0m\u001b[1;33m\u001b[0m\u001b[0m\n\u001b[0m\u001b[0;32m    312\u001b[0m \u001b[1;33m\u001b[0m\u001b[0m\n\u001b[0;32m    313\u001b[0m         \u001b[1;32mreturn\u001b[0m \u001b[0mwrapper\u001b[0m\u001b[1;33m\u001b[0m\u001b[1;33m\u001b[0m\u001b[0m\n",
      "\u001b[1;32mc:\\users\\userpc\\miniconda3\\envs\\243\\lib\\site-packages\\pandas\\core\\reshape\\concat.py\u001b[0m in \u001b[0;36mconcat\u001b[1;34m(objs, axis, join, ignore_index, keys, levels, names, verify_integrity, sort, copy)\u001b[0m\n\u001b[0;32m    305\u001b[0m     )\n\u001b[0;32m    306\u001b[0m \u001b[1;33m\u001b[0m\u001b[0m\n\u001b[1;32m--> 307\u001b[1;33m     \u001b[1;32mreturn\u001b[0m \u001b[0mop\u001b[0m\u001b[1;33m.\u001b[0m\u001b[0mget_result\u001b[0m\u001b[1;33m(\u001b[0m\u001b[1;33m)\u001b[0m\u001b[1;33m\u001b[0m\u001b[1;33m\u001b[0m\u001b[0m\n\u001b[0m\u001b[0;32m    308\u001b[0m \u001b[1;33m\u001b[0m\u001b[0m\n\u001b[0;32m    309\u001b[0m \u001b[1;33m\u001b[0m\u001b[0m\n",
      "\u001b[1;32mc:\\users\\userpc\\miniconda3\\envs\\243\\lib\\site-packages\\pandas\\core\\reshape\\concat.py\u001b[0m in \u001b[0;36mget_result\u001b[1;34m(self)\u001b[0m\n\u001b[0;32m    531\u001b[0m \u001b[1;33m\u001b[0m\u001b[0m\n\u001b[0;32m    532\u001b[0m             new_data = concatenate_managers(\n\u001b[1;32m--> 533\u001b[1;33m                 \u001b[0mmgrs_indexers\u001b[0m\u001b[1;33m,\u001b[0m \u001b[0mself\u001b[0m\u001b[1;33m.\u001b[0m\u001b[0mnew_axes\u001b[0m\u001b[1;33m,\u001b[0m \u001b[0mconcat_axis\u001b[0m\u001b[1;33m=\u001b[0m\u001b[0mself\u001b[0m\u001b[1;33m.\u001b[0m\u001b[0mbm_axis\u001b[0m\u001b[1;33m,\u001b[0m \u001b[0mcopy\u001b[0m\u001b[1;33m=\u001b[0m\u001b[0mself\u001b[0m\u001b[1;33m.\u001b[0m\u001b[0mcopy\u001b[0m\u001b[1;33m\u001b[0m\u001b[1;33m\u001b[0m\u001b[0m\n\u001b[0m\u001b[0;32m    534\u001b[0m             )\n\u001b[0;32m    535\u001b[0m             \u001b[1;32mif\u001b[0m \u001b[1;32mnot\u001b[0m \u001b[0mself\u001b[0m\u001b[1;33m.\u001b[0m\u001b[0mcopy\u001b[0m\u001b[1;33m:\u001b[0m\u001b[1;33m\u001b[0m\u001b[1;33m\u001b[0m\u001b[0m\n",
      "\u001b[1;32mc:\\users\\userpc\\miniconda3\\envs\\243\\lib\\site-packages\\pandas\\core\\internals\\concat.py\u001b[0m in \u001b[0;36mconcatenate_managers\u001b[1;34m(mgrs_indexers, axes, concat_axis, copy)\u001b[0m\n\u001b[0;32m    214\u001b[0m                 \u001b[1;31m#  we can use np.concatenate, which is more performant\u001b[0m\u001b[1;33m\u001b[0m\u001b[1;33m\u001b[0m\u001b[1;33m\u001b[0m\u001b[0m\n\u001b[0;32m    215\u001b[0m                 \u001b[1;31m#  than concat_compat\u001b[0m\u001b[1;33m\u001b[0m\u001b[1;33m\u001b[0m\u001b[1;33m\u001b[0m\u001b[0m\n\u001b[1;32m--> 216\u001b[1;33m                 \u001b[0mvalues\u001b[0m \u001b[1;33m=\u001b[0m \u001b[0mnp\u001b[0m\u001b[1;33m.\u001b[0m\u001b[0mconcatenate\u001b[0m\u001b[1;33m(\u001b[0m\u001b[0mvals\u001b[0m\u001b[1;33m,\u001b[0m \u001b[0maxis\u001b[0m\u001b[1;33m=\u001b[0m\u001b[0mblk\u001b[0m\u001b[1;33m.\u001b[0m\u001b[0mndim\u001b[0m \u001b[1;33m-\u001b[0m \u001b[1;36m1\u001b[0m\u001b[1;33m)\u001b[0m\u001b[1;33m\u001b[0m\u001b[1;33m\u001b[0m\u001b[0m\n\u001b[0m\u001b[0;32m    217\u001b[0m             \u001b[1;32melse\u001b[0m\u001b[1;33m:\u001b[0m\u001b[1;33m\u001b[0m\u001b[1;33m\u001b[0m\u001b[0m\n\u001b[0;32m    218\u001b[0m                 \u001b[1;31m# TODO(EA2D): special-casing not needed with 2D EAs\u001b[0m\u001b[1;33m\u001b[0m\u001b[1;33m\u001b[0m\u001b[1;33m\u001b[0m\u001b[0m\n",
      "\u001b[1;32m<__array_function__ internals>\u001b[0m in \u001b[0;36mconcatenate\u001b[1;34m(*args, **kwargs)\u001b[0m\n",
      "\u001b[1;31mKeyboardInterrupt\u001b[0m: "
     ]
    }
   ],
   "source": [
    "df=pd.read_csv(os.getcwd()+'\\\\vitalperiodicexe.csv')\n",
    "df2=pd.read_csv(os.getcwd()+'\\\\dialysisoffset.csv')#sao2 systemicsystolic systemicdiastolic heartrate\n",
    "\n",
    "feature=['heartrate','systemicsystolic','sao2','systemicdiastolic']\n",
    "for k in range(0,len(feature)):\n",
    "    ftname=['patientunitstayid','%s mean'%feature[k],'%s var'%feature[k]]\n",
    "    dfhrv=pd.DataFrame(columns=ftname)\n",
    "    print(feature[k])\n",
    "    for i in range(0,len(df2)):\n",
    "        hrv=[]\n",
    "        start=df2['dialysisstart'][i]\n",
    "        end=df2['dialysisstart'][i]+288\n",
    "        if(df2['dialysisend'][i]-df2['dialysisstart'][i]<287):\n",
    "            end=df2['dialysisend'][i]\n",
    "        for j in range(start,end):\n",
    "            if(190>=df['%s'%feature[k]][j]>=30 and not pd.isna(df['%s'%feature[k]][j])):\n",
    "                hrv.append(df['%s'%feature[k]][j])\n",
    "        #print(hrv)\n",
    "        #dfhrv['patientunitstayid'][i]=df['patientunitstayid'][i]\n",
    "        try:\n",
    "            space_row = [df2['patientunitstayid'][i]]\n",
    "            space_row.append(np.nanmean(hrv))\n",
    "            space_row.append(np.nanvar(hrv))\n",
    "            #space_row.append(df['target'][i])\n",
    "            #print(df2['patientunitstayid'][i])\n",
    "            #print(np.nanvar(hrv))\n",
    "        except ValueError:\n",
    "            #print(df['patientunitstayid'][i])\n",
    "            space_row=[df2['patientunitstayid'][i]]\n",
    "            for i in range(1,len(ftname)):\n",
    "                space_row.append(-0.001)\n",
    "            #space_row.append(df['target'][i])\n",
    "        dfhrv = dfhrv.append(pd.Series(space_row, index=dfhrv.columns), ignore_index=True)\n",
    "    dfhrv.to_csv(os.getcwd()+'\\\\%s.csv'%feature[k],index=False)\n",
    "#after finish these file, please duplicate mean and var of heartrate,systemicsystolic,sao2 and systemicdiastolic intoinput data manually"
   ]
  },
  {
   "cell_type": "code",
   "execution_count": null,
   "id": "77ad2d04",
   "metadata": {},
   "outputs": [],
   "source": []
  }
 ],
 "metadata": {
  "kernelspec": {
   "display_name": "Python 3 (ipykernel)",
   "language": "python",
   "name": "python3"
  },
  "language_info": {
   "codemirror_mode": {
    "name": "ipython",
    "version": 3
   },
   "file_extension": ".py",
   "mimetype": "text/x-python",
   "name": "python",
   "nbconvert_exporter": "python",
   "pygments_lexer": "ipython3",
   "version": "3.7.4"
  }
 },
 "nbformat": 4,
 "nbformat_minor": 5
}
